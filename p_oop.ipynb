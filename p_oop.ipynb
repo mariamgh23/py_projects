{
 "cells": [
  {
   "cell_type": "code",
   "execution_count": 12,
   "metadata": {},
   "outputs": [
    {
     "name": "stdout",
     "output_type": "stream",
     "text": [
      "Brand: BMW, Model : X7, Color: Red, Year: 2020, Wheels: 4\n",
      "Engine Start\n",
      "Speed is 10 km/h\n",
      "Speed is 20 km/h\n",
      "Speed is 30 km/h\n",
      "Speed is 40 km/h\n",
      "Speed is 50 km/h\n",
      "Speed is 60 km/h\n",
      "Speed is 50 km/h\n",
      "Engine stop\n",
      "Beep! Beep!\n"
     ]
    }
   ],
   "source": [
    "class Car:\n",
    "    \n",
    "    wheels = 4  #class attribute \n",
    "   \n",
    "    def __init__(self, color, brand, model, year):#instance attributes because an instance (object uses them)\n",
    "        #dunder method +> double under score\n",
    "        self.brand = brand\n",
    "        self.color = color \n",
    "        self.model = model \n",
    "        self.year = year\n",
    "        self.speed = 0\n",
    "      \n",
    "        #all upcoming methods are instance methods that uses the attributes of the instance (object)\n",
    "        \n",
    "    def display_info(self):\n",
    "        print(f\"Brand: {self.brand}, Model : {self.model}, Color: {self.color}, Year: {self.year}, Wheels: {Car.wheels}\")\n",
    "        \n",
    "        \n",
    "    def start_engine(self):\n",
    "        if self.speed == 0:\n",
    "            print(\"Engine Start\")\n",
    "            \n",
    "        else:\n",
    "            print(\"Engine already started\")\n",
    "            \n",
    "            \n",
    "    def stop_engine(self):\n",
    "        \n",
    "        if self.speed > 0 :\n",
    "            self.speed =  0\n",
    "            print(\"Engine stop\")\n",
    "            \n",
    "        else:\n",
    "            print(\"Engine is already stopped\")\n",
    "            \n",
    "    \n",
    "    def accelrate(self):\n",
    "        if self.speed >= 180:\n",
    "            print(\"Maximum speed is reached\")\n",
    "            \n",
    "        else:\n",
    "            self.speed += 10 \n",
    "            print(f\"Speed is {self.speed} km/h\")\n",
    "            \n",
    "            \n",
    "    def brake(self):\n",
    "        if self.speed == 0:\n",
    "            print(\"Car is already stopped\")\n",
    "            \n",
    "        else:\n",
    "            self.speed -= 10\n",
    "            print(f\"Speed is {self.speed} km/h\")\n",
    "            \n",
    "            \n",
    "    def horn(self):\n",
    "        print(\"Beep! Beep!\")\n",
    "\n",
    "car1 = Car(\"Red\", \"BMW\", \"X7\", 2020) #object\n",
    "car2 = Car(\"Blue\", \"toyota\", \"corolla\", 2024)\n",
    "car1.display_info()\n",
    "car1.start_engine()\n",
    "car1.accelrate()\n",
    "car1.accelrate()\n",
    "car1.accelrate()\n",
    "car1.accelrate()\n",
    "car1.accelrate()\n",
    "car1.accelrate()\n",
    "car1.brake()\n",
    "car1.stop_engine()\n",
    "car1.horn()"
   ]
  },
  {
   "cell_type": "code",
   "execution_count": null,
   "metadata": {},
   "outputs": [
    {
     "name": "stdout",
     "output_type": "stream",
     "text": [
      "Mariam, 20, 2\n"
     ]
    }
   ],
   "source": [
    "class Students:\n",
    "    No_student=0\n",
    "    def __init__(self,name,age):\n",
    "        self.name=name\n",
    "        self.age=age\n",
    "        Students.No_student+=1\n",
    "    def display_info(self):\n",
    "        print(f\"{self.name}, {self.age}, {Students.No_student}\")\n",
    "student1=Students(\"Mariam\",20)\n",
    "Student2=Students(\"Mohamed\",24)\n",
    "student1.display_info()"
   ]
  },
  {
   "cell_type": "code",
   "execution_count": 3,
   "metadata": {},
   "outputs": [
    {
     "name": "stdout",
     "output_type": "stream",
     "text": [
      "Mariam, 20\n",
      "number of students 2\n"
     ]
    }
   ],
   "source": [
    "class Students:\n",
    "    No_student=0\n",
    "    def __init__(self,name,age):\n",
    "        self.name=name\n",
    "        self.age=age\n",
    "        Students.No_student+=1\n",
    "     \n",
    "    @classmethod\n",
    "    def display_number(cls):\n",
    "        \n",
    "        print(f\"number of students {cls.No_student}\")\n",
    "    def display_info(self):\n",
    "        print(f\"{self.name}, {self.age}\")\n",
    "student1=Students(\"Mariam\",20)\n",
    "Student2=Students(\"Mohamed\",24)\n",
    "student1.display_info()\n",
    "student1.display_number()"
   ]
  },
  {
   "cell_type": "code",
   "execution_count": 5,
   "metadata": {},
   "outputs": [
    {
     "name": "stdout",
     "output_type": "stream",
     "text": [
      "scooby is eating\n",
      "scooby is asleep\n",
      "mimi is eating\n",
      "mimi is asleep\n",
      "Jerry is eating\n",
      "Jerry is asleep\n",
      "HOEEEEEE\n",
      "Meow\n",
      "khush\n"
     ]
    }
   ],
   "source": [
    "#inheritance\n",
    "class Animal:\n",
    "    def __init__(self,name):\n",
    "        self.name=name\n",
    "    def eat(self):\n",
    "        print(f\"{self.name} is eating\")\n",
    "    def sleep(self):\n",
    "        print(f\"{self.name} is asleep\")\n",
    "    def speak(self):\n",
    "        pass\n",
    "class Dog(Animal):\n",
    "    def speak(self):\n",
    "        print(\"HOEEEEEE\")\n",
    "class Cat(Animal):\n",
    "    def speak(self):\n",
    "        print(\"Meow\")\n",
    "      \n",
    "class Mouse(Animal):\n",
    "      def speak(self):\n",
    "          print(\"khush\")\n",
    "    \n",
    "#even though i didn't write any code they inherit methods and attributes\n",
    "dog=Dog(\"scooby\")\n",
    "cat=Cat(\"mimi\")\n",
    "mouce=Mouse(\"Jerry\")\n",
    "dog.eat()\n",
    "dog.sleep()\n",
    "cat.eat()\n",
    "cat.sleep()\n",
    "mouce.eat()\n",
    "mouce.sleep()\n",
    "dog.speak()\n",
    "cat.speak()\n",
    "mouce.speak()"
   ]
  },
  {
   "cell_type": "code",
   "execution_count": 13,
   "metadata": {},
   "outputs": [
    {
     "name": "stdout",
     "output_type": "stream",
     "text": [
      "This animal is flee\n",
      "This animal in hunting\n"
     ]
    }
   ],
   "source": [
    "#multiple inheritnace\n",
    "class Prey:\n",
    "    def flee(self):\n",
    "        print(\"This animal is flee\")\n",
    "        \n",
    "        \n",
    "\n",
    "class Predator:\n",
    "    def hunt(self):\n",
    "         print(\"This animal in hunting\")\n",
    "   \n",
    "class Rabbit(Prey):\n",
    "    pass\n",
    "class Hawk(Predator):\n",
    "    pass\n",
    "class Fish(Prey,Predator):\n",
    "    # they can both hunt and flee as nig fish eat smaller ones \n",
    "    pass\n",
    "rabbit=Rabbit()\n",
    "hawk=Hawk()\n",
    "fish=Fish()\n",
    "fish.flee()\n",
    "fish.hunt()\n",
    "\n",
    "    "
   ]
  },
  {
   "cell_type": "code",
   "execution_count": null,
   "metadata": {},
   "outputs": [
    {
     "name": "stdout",
     "output_type": "stream",
     "text": [
      "Nemo is flee\n",
      "Nemo in hunting\n",
      "Mark is asleep\n",
      "Mark is eating\n"
     ]
    }
   ],
   "source": [
    "#multilevel inheritance\n",
    "#we have a parent then children then grand children\n",
    "class Animal:\n",
    "    def __init__(self,name):\n",
    "        self.name=name\n",
    "    def eat(self):\n",
    "        print(f\"{self.name} is eating\")\n",
    "    def sleep(self):\n",
    "        print(f\"{self.name} is asleep\")\n",
    "class Prey(Animal):\n",
    "    def flee(self):\n",
    "        print(f\"{self.name} is flee\")\n",
    "        \n",
    "        \n",
    "\n",
    "class Predator(Animal):\n",
    "    def hunt(self):\n",
    "         print(f\"{self.name} in hunting\")\n",
    "   \n",
    "class Rabbit(Prey):\n",
    "    pass\n",
    "class Hawk(Predator):\n",
    "    pass\n",
    "class Fish(Prey,Predator):\n",
    "    # they can both hunt and flee as nig fish eat smaller ones \n",
    "    pass\n",
    "rabbit=Rabbit(\"Mark\")\n",
    "hawk=Hawk(\"Shiko\")\n",
    "fish=Fish(\"Nemo\")\n",
    "fish.flee()\n",
    "fish.hunt()\n",
    "rabbit.sleep()\n",
    "rabbit.eat()"
   ]
  },
  {
   "cell_type": "code",
   "execution_count": 23,
   "metadata": {},
   "outputs": [
    {
     "name": "stdout",
     "output_type": "stream",
     "text": [
      "Go with the car\n",
      "stop the car\n",
      "Go with the cycle\n",
      "stop the cycle\n"
     ]
    }
   ],
   "source": [
    "#abstract class => the whole image is not clear which mean that an abstract class is meant to be a subclass\n",
    "#they have abstract methods declared with no implementation\n",
    "# require children to inherit abstract methods\n",
    "from abc import ABC,abstractmethod\n",
    "class Vechile(ABC):\n",
    "    @abstractmethod\n",
    "    def go(self):\n",
    "        pass\n",
    "    @abstractmethod\n",
    "    def stop(self):\n",
    "        pass\n",
    "# right now we can't run this class or take objects beacuse it's incomplete we need to have subclasses that inherit and must execute each and every method\n",
    "class Car(Vechile):\n",
    "    def go(self):\n",
    "        print(\"Go with the car\")\n",
    "    def stop(self):\n",
    "        print(\"stop the car\")\n",
    "class truck(Vechile):\n",
    "    def go(self):\n",
    "        print(\"Go with the cycle\")\n",
    "    def stop(self):\n",
    "        print(\"stop the cycle\")\n",
    "car=Car()\n",
    "car.go()\n",
    "car.stop()\n",
    "motorcycle=truck()\n",
    "motorcycle.go()\n",
    "motorcycle.stop()\n",
    "        "
   ]
  },
  {
   "cell_type": "code",
   "execution_count": null,
   "metadata": {},
   "outputs": [
    {
     "name": "stdout",
     "output_type": "stream",
     "text": [
      "The area of rectagle is 30 cm2\n",
      "width= 5, length=6, filled\n"
     ]
    }
   ],
   "source": [
    "#super() function we just define the attributes once inside the parent so that children can use them using super function\n",
    "class Shape:\n",
    "    def __init__(self,width,length,is_filled):\n",
    "        self.width=width\n",
    "        self.length=length\n",
    "        self.is_filled=True\n",
    "    def display(self):\n",
    "        print(f\"width= {self.width}, length={self.length}, {\"filled\" if self.is_filled else \"Not filled\"}\")# codition inside formatting string\n",
    "class rectangle(Shape):\n",
    "    def __init__(self,width,length,is_filled):\n",
    "        super().__init__(width,length,is_filled)\n",
    "    def display(self):\n",
    "        #extending the functionality of child function\n",
    "        print(f\"The area of rectagle is {self.width * self.length} cm2\")\n",
    "        super().display()\n",
    "    \n",
    "rect=rectangle(5,6,True)\n",
    "rect.display()\n",
    "    "
   ]
  },
  {
   "cell_type": "code",
   "execution_count": null,
   "metadata": {},
   "outputs": [
    {
     "name": "stdout",
     "output_type": "stream",
     "text": [
      "78.5\n",
      "20\n"
     ]
    }
   ],
   "source": [
    "#polymorphism means many forms and two ways to achieve it =>\n",
    "# 1) inheritance = an object could be treated of the same type of parent class\n",
    "#2) Duck typing = object must have necassry attributes/ methods \n",
    "from abc import ABC,abstractmethod\n",
    "class Shape:\n",
    "    @abstractmethod\n",
    "    def area(self):\n",
    "        pass\n",
    "class circle(Shape):\n",
    "    def __init__(self,radius):\n",
    "        self.radius=radius\n",
    "    def area(self):\n",
    "        return 3.14*self.radius**2\n",
    "class rectangle(Shape):\n",
    "    def __init__(self,width,height):\n",
    "     self.width=width\n",
    "     self.height=height\n",
    "    def area(self):\n",
    "        return self.width*self.height\n",
    "\n",
    "    \n",
    "shapes=[circle(5),rectangle(4,5)]\n",
    "for shape in shapes:\n",
    "    print(shape.area() )\n",
    "     \n",
    "    \n",
    "    \n"
   ]
  },
  {
   "cell_type": "code",
   "execution_count": null,
   "metadata": {},
   "outputs": [
    {
     "name": "stdout",
     "output_type": "stream",
     "text": [
      "HOEEEEEE\n",
      "Meow\n",
      "Honk\n"
     ]
    }
   ],
   "source": [
    "#Duck typing it look like a duck , quacks like a duck then it's a duck\n",
    "class Animal:\n",
    "    alive= True\n",
    "class Dog(Animal):\n",
    "    def speak(self):\n",
    "        print(\"HOEEEEEE\")\n",
    "class Cat(Animal):\n",
    "    def speak(self):\n",
    "        print(\"Meow\")\n",
    "#car is not an animal but it has the speak method so its considered polymorphism\n",
    "class Car:\n",
    "    def speak(self):\n",
    "        print(\"Honk\")\n",
    "animals=[Dog() , Cat( ), Car( )]\n",
    "for i in animals:\n",
    "    i.speak()\n"
   ]
  },
  {
   "cell_type": "code",
   "execution_count": 42,
   "metadata": {},
   "outputs": [
    {
     "name": "stdout",
     "output_type": "stream",
     "text": [
      "['Harry Potter, J.K. Rowling', 'The Hobbit, J.R.R. Tolkien']\n"
     ]
    }
   ],
   "source": [
    "# Aggregation = relationship where one object (the whole) contains references \n",
    "# to one or more INDEPENDENT objects (the parts)\n",
    "# A library can exist without books and books can exist without a library\n",
    "\n",
    "class Library:\n",
    "    def __init__(self, name):\n",
    "        self.name = name\n",
    "        self.books = []\n",
    "\n",
    "    def add_book(self, book):\n",
    "        self.books.append(book)\n",
    "\n",
    "    def show_books(self):\n",
    "        return [f\"{book.title}, {book.author}\" for book in self.books]\n",
    "\n",
    "class Book:\n",
    "    def __init__(self, title, author):\n",
    "        self.title = title\n",
    "        self.author = author\n",
    "\n",
    "library = Library(\"Alexandria Library\")\n",
    "book1 = Book(\"Harry Potter\", \"J.K. Rowling\")\n",
    "book2 = Book(\"The Hobbit\", \"J.R.R. Tolkien\")\n",
    "\n",
    "library.add_book(book1)\n",
    "library.add_book(book2)\n",
    "\n",
    "# Show books in the library\n",
    "print(library.show_books())\n"
   ]
  },
  {
   "cell_type": "code",
   "execution_count": 48,
   "metadata": {},
   "outputs": [
    {
     "name": "stdout",
     "output_type": "stream",
     "text": [
      "Ford Mustang - 500 HP - Wheel size: 18\"\n"
     ]
    }
   ],
   "source": [
    "# Composition = has-a (owns-a) relationship, parts can't exist without the whole\n",
    "\n",
    "class Engine:\n",
    "    def __init__(self, horse_power):\n",
    "        self.horse_power = horse_power\n",
    "\n",
    "class Wheel:\n",
    "    def __init__(self, size):\n",
    "        self.size = size\n",
    "\n",
    "class Car:\n",
    "    def __init__(self, make, model, horse_power, wheel_size):\n",
    "        self.make = make\n",
    "        self.model = model\n",
    "        self.engine = Engine(horse_power)\n",
    "        self.wheels = [Wheel(wheel_size) for _ in range(4)]\n",
    "\n",
    "    def display(self):\n",
    "        print(f\"{self.make} {self.model} - {self.engine.horse_power} HP - Wheel size: {self.wheels[0].size}\\\"\")\n",
    "\n",
    "car = Car(make=\"Ford\", model=\"Mustang\", horse_power=500, wheel_size=18)\n",
    "car.display()\n"
   ]
  },
  {
   "cell_type": "code",
   "execution_count": null,
   "metadata": {},
   "outputs": [],
   "source": [
    "#Nested classes=If a class is only useful in the context of another class, nesting it can be a clean, organized choice.\n",
    "class Computer:\n",
    "    def __init__(self, brand):\n",
    "        self.brand = brand\n",
    "        self.cpu = self.CPU()  # creating an instance of nested class\n",
    "\n",
    "    def show(self):\n",
    "        print(f\"Computer brand: {self.brand}\")\n",
    "        self.cpu.show_specs()\n",
    "\n",
    "    class CPU:\n",
    "        def __init__(self):\n",
    "            self.cores = 8\n",
    "            self.frequency = \"3.2 GHz\"\n",
    "\n",
    "        def show_specs(self):\n",
    "            print(f\"CPU: {self.cores} cores @ {self.frequency}\")\n",
    "comp = Computer(\"Dell\")\n",
    "comp.show()\n",
    "\n",
    "\n"
   ]
  },
  {
   "cell_type": "code",
   "execution_count": null,
   "metadata": {},
   "outputs": [],
   "source": [
    "#magic methods= Runder methods like __init__ (double underscore)\n",
    "#__init__  __str__  __eq__ automatrically called by built functions \n",
    "#hey let developers define and customize objects \n",
    "class Person:\n",
    "    def __init__(self, name, age):\n",
    "        # __init__ is called automatically when you create a new object\n",
    "        self.name = name\n",
    "        self.age = age\n",
    "\n",
    "    def __str__(self):\n",
    "        # __str__ is called when you use str(obj) or print(obj)\n",
    "        return f\"{self.name}, {self.age} years old\"\n",
    "\n",
    "    def __eq__(self, other):\n",
    "        # __eq__ is called when you compare two objects using ==\n",
    "        return self.name == other.name and self.age == other.age\n",
    "\n",
    "\n",
    "# Create two person objects\n",
    "person1 = Person(\"Alice\", 25)\n",
    "person2 = Person(\"Alice\", 25)\n",
    "person3 = Person(\"Bob\", 30)\n",
    "\n",
    "# __str__ in action\n",
    "print(person1)  # Output: Alice, 25 years old\n",
    "\n",
    "# __eq__ in action\n",
    "print(person1 == person2)  # Output: True\n",
    "print(person1 == person3)  # Output: False\n",
    "\n",
    "# 🔧 Initialization & Representation\n",
    "# ----------------------------------\n",
    "# __init__     : Constructor, called when an object is created.\n",
    "# __del__      : Destructor, called when an object is deleted.\n",
    "# __str__      : Called by str() and print() for readable string output.\n",
    "# __repr__     : Called by repr() or in the shell for debug view.\n",
    "\n",
    "# 📏 Comparison Operators\n",
    "# -----------------------\n",
    "# __eq__       : obj1 == obj2\n",
    "# __ne__       : obj1 != obj2\n",
    "# __lt__       : obj1 < obj2\n",
    "# __le__       : obj1 <= obj2\n",
    "# __gt__       : obj1 > obj2\n",
    "# __ge__       : obj1 >= obj2\n",
    "\n",
    "# ➕ Arithmetic Operators\n",
    "# -----------------------\n",
    "# __add__      : obj1 + obj2\n",
    "# __sub__      : obj1 - obj2\n",
    "# __mul__      : obj1 * obj2\n",
    "# __truediv__  : obj1 / obj2\n",
    "# __floordiv__ : obj1 // obj2\n",
    "# __mod__      : obj1 % obj2\n",
    "# __pow__      : obj1 ** obj2\n",
    "# In-place variants: __iadd__, __isub__, etc. for +=, -=, ...\n",
    "\n",
    "# 🔁 Container/Sequence Behavior\n",
    "# ------------------------------\n",
    "# __len__      : len(obj)\n",
    "# __getitem__  : obj[key]\n",
    "# __setitem__  : obj[key] = value\n",
    "# __delitem__  : del obj[key]\n",
    "# __contains__ : key in obj\n",
    "# __iter__     : for x in obj\n",
    "# __next__     : next(obj)\n",
    "\n",
    "# 🔄 Type Conversion & Callable\n",
    "# ------------------------------\n",
    "# __int__      : int(obj)\n",
    "# __float__    : float(obj)\n",
    "# __bool__     : bool(obj), used in truthy checks\n",
    "# __call__     : obj() — makes the object callable like a function\n",
    "\n",
    "# 🎩 Context Manager\n",
    "# ------------------\n",
    "# __enter__    : with obj — called on entry\n",
    "# __exit__     : with obj — called on exit\n",
    "\n"
   ]
  },
  {
   "cell_type": "code",
   "execution_count": null,
   "metadata": {},
   "outputs": [
    {
     "name": "stdout",
     "output_type": "stream",
     "text": [
      "3cm\n",
      "4cm\n"
     ]
    }
   ],
   "source": [
    "#property decorator = gives the abstraction logic\n",
    "class Rectangle:\n",
    "    def __init__(self,width,height):\n",
    "        self._width=width\n",
    "        self._height=height\n",
    "     \n",
    "    @property\n",
    "    def width(self):\n",
    "        return f\"{self._width:}cm\"\n",
    "    @property\n",
    "    def height(self):\n",
    "        return f\"{self._height}cm\"\n",
    "rect=Rectangle(3,4)\n",
    "print(rect.width)\n",
    "print(rect.height)"
   ]
  },
  {
   "cell_type": "code",
   "execution_count": null,
   "metadata": {},
   "outputs": [],
   "source": [
    "#@setter and @deleter \n",
    "class Person:\n",
    "    def __init__(self, name):\n",
    "        self._name = name  # underscore means \"internal use\"\n",
    "\n",
    "    @property\n",
    "    def name(self):\n",
    "        # Getter method: called when you access person.name\n",
    "        print(\"Getting name...\")\n",
    "        return self._name\n",
    "\n",
    "    @name.setter\n",
    "    def name(self, value):\n",
    "        # Setter method: called when you set person.name = value\n",
    "        print(\"Setting name...\")\n",
    "        if not isinstance(value, str):\n",
    "            raise ValueError(\"Name must be a string!\")\n",
    "        self._name = value\n",
    "\n",
    "    @name.deleter\n",
    "    def name(self):\n",
    "        # Deleter method: called when you do del person.name\n",
    "        print(\"Deleting name...\")\n",
    "        del self._name\n",
    "\n",
    "\n",
    "# Example usage\n",
    "person = Person(\"Alice\")\n",
    "print(person.name)     # Getting name... → Alice\n",
    "\n",
    "person.name = \"Bob\"    # Setting name...\n",
    "print(person.name)     # Getting name... → Bob\n",
    "\n",
    "del person.name        # Deleting name...\n"
   ]
  }
 ],
 "metadata": {
  "kernelspec": {
   "display_name": "Python 3",
   "language": "python",
   "name": "python3"
  },
  "language_info": {
   "codemirror_mode": {
    "name": "ipython",
    "version": 3
   },
   "file_extension": ".py",
   "mimetype": "text/x-python",
   "name": "python",
   "nbconvert_exporter": "python",
   "pygments_lexer": "ipython3",
   "version": "3.13.1"
  }
 },
 "nbformat": 4,
 "nbformat_minor": 2
}
