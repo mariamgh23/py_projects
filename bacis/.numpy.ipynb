{
 "cells": [
  {
   "cell_type": "code",
   "execution_count": 1,
   "id": "8969d15b",
   "metadata": {},
   "outputs": [
    {
     "name": "stdout",
     "output_type": "stream",
     "text": [
      "3.141592653589793\n"
     ]
    }
   ],
   "source": [
    "import numpy as np \n",
    "print(np.pi)"
   ]
  },
  {
   "cell_type": "code",
   "execution_count": 4,
   "id": "6ccfb2f0",
   "metadata": {},
   "outputs": [],
   "source": [
    "import numpy as np \n",
    "array = np.array([1,2,3,4,5,6,7],dtype=\"int8\")#signed int uses 7 bits for number and one bit for sign(parity)\n"
   ]
  },
  {
   "cell_type": "code",
   "execution_count": 5,
   "id": "10e8394e",
   "metadata": {},
   "outputs": [
    {
     "data": {
      "text/plain": [
       "(7,)"
      ]
     },
     "execution_count": 5,
     "metadata": {},
     "output_type": "execute_result"
    }
   ],
   "source": [
    "array.shape"
   ]
  },
  {
   "cell_type": "code",
   "execution_count": 6,
   "id": "aa4633dd",
   "metadata": {},
   "outputs": [
    {
     "data": {
      "text/plain": [
       "dtype('int8')"
      ]
     },
     "execution_count": 6,
     "metadata": {},
     "output_type": "execute_result"
    }
   ],
   "source": [
    "array.dtype"
   ]
  },
  {
   "cell_type": "code",
   "execution_count": 7,
   "id": "069a83f5",
   "metadata": {},
   "outputs": [
    {
     "data": {
      "text/plain": [
       "array([1, 2, 3, 4, 5, 6, 7], dtype=int8)"
      ]
     },
     "execution_count": 7,
     "metadata": {},
     "output_type": "execute_result"
    }
   ],
   "source": [
    "array"
   ]
  },
  {
   "cell_type": "code",
   "execution_count": 8,
   "id": "b59af843",
   "metadata": {},
   "outputs": [
    {
     "data": {
      "text/plain": [
       "7"
      ]
     },
     "execution_count": 8,
     "metadata": {},
     "output_type": "execute_result"
    }
   ],
   "source": [
    "array.nbytes"
   ]
  },
  {
   "cell_type": "code",
   "execution_count": null,
   "id": "64870583",
   "metadata": {},
   "outputs": [
    {
     "data": {
      "text/plain": [
       "numpy.ndarray"
      ]
     },
     "execution_count": 9,
     "metadata": {},
     "output_type": "execute_result"
    }
   ],
   "source": [
    "type(array)# numpy dimension array"
   ]
  },
  {
   "cell_type": "code",
   "execution_count": null,
   "id": "9becbd9f",
   "metadata": {},
   "outputs": [
    {
     "ename": "ValueError",
     "evalue": "could not convert string to float: 'mariam'",
     "output_type": "error",
     "traceback": [
      "\u001b[31m---------------------------------------------------------------------------\u001b[39m",
      "\u001b[31mValueError\u001b[39m                                Traceback (most recent call last)",
      "\u001b[36mCell\u001b[39m\u001b[36m \u001b[39m\u001b[32mIn[10]\u001b[39m\u001b[32m, line 1\u001b[39m\n\u001b[32m----> \u001b[39m\u001b[32m1\u001b[39m arr=\u001b[43mnp\u001b[49m\u001b[43m.\u001b[49m\u001b[43marray\u001b[49m\u001b[43m(\u001b[49m\u001b[43m[\u001b[49m\u001b[32;43m1\u001b[39;49m\u001b[43m,\u001b[49m\u001b[32;43m2\u001b[39;49m\u001b[43m,\u001b[49m\u001b[32;43m3\u001b[39;49m\u001b[43m,\u001b[49m\u001b[33;43m\"\u001b[39;49m\u001b[33;43mmariam\u001b[39;49m\u001b[33;43m\"\u001b[39;49m\u001b[43m]\u001b[49m\u001b[43m,\u001b[49m\u001b[43mdtype\u001b[49m\u001b[43m=\u001b[49m\u001b[33;43m\"\u001b[39;49m\u001b[33;43mfloat32\u001b[39;49m\u001b[33;43m\"\u001b[39;49m\u001b[43m)\u001b[49m\n",
      "\u001b[31mValueError\u001b[39m: could not convert string to float: 'mariam'"
     ]
    }
   ],
   "source": [
    "#arr=np.array([1,2,3,\"mariam\"],dtype=\"float32\")"
   ]
  },
  {
   "cell_type": "code",
   "execution_count": null,
   "id": "3068d8ce",
   "metadata": {},
   "outputs": [],
   "source": [
    "arra=np.array([1,2,'3.4'],dtype=\"float32\")#converted the string as it's convertable "
   ]
  },
  {
   "cell_type": "code",
   "execution_count": 12,
   "id": "a7b27ee1",
   "metadata": {},
   "outputs": [
    {
     "data": {
      "text/plain": [
       "np.int8(1)"
      ]
     },
     "execution_count": 12,
     "metadata": {},
     "output_type": "execute_result"
    }
   ],
   "source": [
    "array[0]"
   ]
  },
  {
   "cell_type": "markdown",
   "id": "dd177cd2",
   "metadata": {},
   "source": [
    "by default int is int32"
   ]
  },
  {
   "cell_type": "code",
   "execution_count": 14,
   "id": "b5a62337",
   "metadata": {},
   "outputs": [
    {
     "name": "stdout",
     "output_type": "stream",
     "text": [
      "(3-4j)\n"
     ]
    }
   ],
   "source": [
    "arr=np.array([1,3-4j],dtype='complex64')\n",
    "print(arr[1])"
   ]
  },
  {
   "cell_type": "markdown",
   "id": "80280c53",
   "metadata": {},
   "source": [
    "if we wrote only real numbers and stored them as complex numbers it will be stored as real+0j"
   ]
  },
  {
   "cell_type": "code",
   "execution_count": null,
   "id": "c5a2f19b",
   "metadata": {},
   "outputs": [
    {
     "data": {
      "text/plain": [
       "dtype('<U7')"
      ]
     },
     "execution_count": 16,
     "metadata": {},
     "output_type": "execute_result"
    }
   ],
   "source": [
    "array2=np.array([\"youssef\",\"Khaled\"],dtype=\"unicode\")\n",
    "array2.dtype\n",
    "#data is stored according to biggest element size to avoid data loss"
   ]
  },
  {
   "cell_type": "code",
   "execution_count": 17,
   "id": "3f4546e8",
   "metadata": {},
   "outputs": [
    {
     "data": {
      "text/plain": [
       "dtype('int32')"
      ]
     },
     "execution_count": 17,
     "metadata": {},
     "output_type": "execute_result"
    }
   ],
   "source": [
    "#Type conversion astype\n",
    "arr2=np.array([1,2,3,4,5],dtype=\"int32\")\n",
    "arr2.dtype\n"
   ]
  },
  {
   "cell_type": "code",
   "execution_count": 18,
   "id": "05ac5701",
   "metadata": {},
   "outputs": [
    {
     "data": {
      "text/plain": [
       "dtype('int64')"
      ]
     },
     "execution_count": 18,
     "metadata": {},
     "output_type": "execute_result"
    }
   ],
   "source": [
    "R=arr2.astype(\"int64\")\n",
    "R.dtype"
   ]
  },
  {
   "cell_type": "code",
   "execution_count": 20,
   "id": "942acde9",
   "metadata": {},
   "outputs": [
    {
     "data": {
      "text/plain": [
       "array([1, 2, 3, 4, 5])"
      ]
     },
     "execution_count": 20,
     "metadata": {},
     "output_type": "execute_result"
    }
   ],
   "source": [
    "l=[1,2,3,4,5]\n",
    "arrayl=np.array(l)\n",
    "arrayl.dtype\n",
    "arrayl"
   ]
  },
  {
   "cell_type": "code",
   "execution_count": 21,
   "id": "24c68f8f",
   "metadata": {},
   "outputs": [
    {
     "data": {
      "text/plain": [
       "array([0, 2, 4, 6, 8])"
      ]
     },
     "execution_count": 21,
     "metadata": {},
     "output_type": "execute_result"
    }
   ],
   "source": [
    "l=range(0,10,2)\n",
    "arrl=np.array(l)\n",
    "arrl"
   ]
  },
  {
   "cell_type": "code",
   "execution_count": 23,
   "id": "e1869585",
   "metadata": {},
   "outputs": [
    {
     "name": "stdout",
     "output_type": "stream",
     "text": [
      "[0.         0.01010101 0.02020202 0.03030303 0.04040404 0.05050505\n",
      " 0.06060606 0.07070707 0.08080808 0.09090909 0.1010101  0.11111111\n",
      " 0.12121212 0.13131313 0.14141414 0.15151515 0.16161616 0.17171717\n",
      " 0.18181818 0.19191919 0.2020202  0.21212121 0.22222222 0.23232323\n",
      " 0.24242424 0.25252525 0.26262626 0.27272727 0.28282828 0.29292929\n",
      " 0.3030303  0.31313131 0.32323232 0.33333333 0.34343434 0.35353535\n",
      " 0.36363636 0.37373737 0.38383838 0.39393939 0.4040404  0.41414141\n",
      " 0.42424242 0.43434343 0.44444444 0.45454545 0.46464646 0.47474747\n",
      " 0.48484848 0.49494949 0.50505051 0.51515152 0.52525253 0.53535354\n",
      " 0.54545455 0.55555556 0.56565657 0.57575758 0.58585859 0.5959596\n",
      " 0.60606061 0.61616162 0.62626263 0.63636364 0.64646465 0.65656566\n",
      " 0.66666667 0.67676768 0.68686869 0.6969697  0.70707071 0.71717172\n",
      " 0.72727273 0.73737374 0.74747475 0.75757576 0.76767677 0.77777778\n",
      " 0.78787879 0.7979798  0.80808081 0.81818182 0.82828283 0.83838384\n",
      " 0.84848485 0.85858586 0.86868687 0.87878788 0.88888889 0.8989899\n",
      " 0.90909091 0.91919192 0.92929293 0.93939394 0.94949495 0.95959596\n",
      " 0.96969697 0.97979798 0.98989899 1.        ]\n",
      "100\n",
      "0.010101010101010102\n"
     ]
    }
   ],
   "source": [
    "arr,step_size=np.linspace(0,1,100,endpoint=True,retstep=True)\n",
    "print(arr)\n",
    "print(arr.size)\n",
    "print(step_size)"
   ]
  },
  {
   "cell_type": "code",
   "execution_count": 28,
   "id": "c1b099b8",
   "metadata": {},
   "outputs": [
    {
     "data": {
      "text/plain": [
       "array([0, 1, 2, 3, 4, 5, 6, 7, 8, 9])"
      ]
     },
     "execution_count": 28,
     "metadata": {},
     "output_type": "execute_result"
    }
   ],
   "source": [
    "arr3=np.arange(0,10)\n",
    "arr3"
   ]
  },
  {
   "cell_type": "code",
   "execution_count": 4,
   "id": "59266f95",
   "metadata": {},
   "outputs": [
    {
     "data": {
      "text/plain": [
       "array([[[0.19034857, 0.0029041 , 0.44940737, 0.8188102 ],\n",
       "        [0.61745861, 0.1890676 , 0.14086713, 0.21703931],\n",
       "        [0.78811618, 0.13797143, 0.98060166, 0.86622259]],\n",
       "\n",
       "       [[0.92105716, 0.99113456, 0.51690042, 0.72032306],\n",
       "        [0.45550418, 0.25652633, 0.36114405, 0.10701231],\n",
       "        [0.97292617, 0.499337  , 0.33837455, 0.98916469]]])"
      ]
     },
     "execution_count": 4,
     "metadata": {},
     "output_type": "execute_result"
    }
   ],
   "source": [
    "import numpy as np\n",
    "arr=np.random.rand(2,3,4)#dimensions  \n",
    "arr"
   ]
  },
  {
   "cell_type": "code",
   "execution_count": 5,
   "id": "991acabe",
   "metadata": {},
   "outputs": [
    {
     "data": {
      "text/plain": [
       "array([[[[0.87930785, 0.06090432, 0.20712449, 0.60050584, 0.38114674],\n",
       "         [0.05260149, 0.4191806 , 0.66964866, 0.12380136, 0.32801591],\n",
       "         [0.54513369, 0.07660882, 0.30795453, 0.41735513, 0.55210251],\n",
       "         [0.42911579, 0.405941  , 0.56847295, 0.99431023, 0.77801904],\n",
       "         [0.80553549, 0.45093006, 0.89175127, 0.72006243, 0.00798089]],\n",
       "\n",
       "        [[0.58742791, 0.50467869, 0.34114318, 0.3425107 , 0.71382147],\n",
       "         [0.53920374, 0.08677727, 0.00709464, 0.80465531, 0.05522392],\n",
       "         [0.77720546, 0.68951805, 0.13638418, 0.67826634, 0.87647377],\n",
       "         [0.30408846, 0.21901284, 0.70969801, 0.44733053, 0.3964913 ],\n",
       "         [0.59263554, 0.19632779, 0.6073218 , 0.34354219, 0.22514011]],\n",
       "\n",
       "        [[0.943281  , 0.05432929, 0.91766196, 0.11152048, 0.41485134],\n",
       "         [0.14460262, 0.52870737, 0.05230528, 0.6663129 , 0.55008942],\n",
       "         [0.04850834, 0.9421743 , 0.07160189, 0.94916527, 0.07269001],\n",
       "         [0.89892596, 0.57665136, 0.25729669, 0.51850147, 0.40076578],\n",
       "         [0.08065324, 0.78228255, 0.03968158, 0.17405531, 0.77020439]]],\n",
       "\n",
       "\n",
       "       [[[0.2345281 , 0.08372516, 0.74950161, 0.48227747, 0.55177157],\n",
       "         [0.11491132, 0.61460976, 0.97515893, 0.29590519, 0.35544265],\n",
       "         [0.03025903, 0.6299169 , 0.60775253, 0.8770623 , 0.65298589],\n",
       "         [0.34664298, 0.73907412, 0.0769969 , 0.98000135, 0.296288  ],\n",
       "         [0.68343408, 0.16370751, 0.94692953, 0.46485742, 0.24610682]],\n",
       "\n",
       "        [[0.67788904, 0.51520692, 0.19243138, 0.1098836 , 0.78463244],\n",
       "         [0.6686177 , 0.98480291, 0.46053727, 0.26800101, 0.96337569],\n",
       "         [0.98474262, 0.85355919, 0.16707794, 0.03277617, 0.51995964],\n",
       "         [0.45776162, 0.74721609, 0.37501714, 0.7647595 , 0.21022905],\n",
       "         [0.46812391, 0.49362649, 0.22151311, 0.03009434, 0.469721  ]],\n",
       "\n",
       "        [[0.4469278 , 0.29290364, 0.39345615, 0.6734803 , 0.16083916],\n",
       "         [0.68912301, 0.51109424, 0.62724345, 0.44178455, 0.73497242],\n",
       "         [0.92473832, 0.89339047, 0.88559262, 0.09801296, 0.07358214],\n",
       "         [0.96685213, 0.60295092, 0.20837796, 0.73121243, 0.9999746 ],\n",
       "         [0.17993408, 0.60850862, 0.63242285, 0.11911168, 0.17132531]]],\n",
       "\n",
       "\n",
       "       [[[0.31866839, 0.11530595, 0.87338887, 0.81040732, 0.9948698 ],\n",
       "         [0.30500404, 0.20789378, 0.98137424, 0.2414183 , 0.87822453],\n",
       "         [0.84207083, 0.37687382, 0.90496964, 0.99311783, 0.93558472],\n",
       "         [0.57370586, 0.1776949 , 0.07743057, 0.48814928, 0.41968461],\n",
       "         [0.02952777, 0.07342676, 0.4411637 , 0.71424196, 0.74085079]],\n",
       "\n",
       "        [[0.39443987, 0.48537331, 0.97158694, 0.98481864, 0.93882335],\n",
       "         [0.96387951, 0.57925062, 0.65433559, 0.86320307, 0.76748619],\n",
       "         [0.9249802 , 0.54682664, 0.05464588, 0.97426115, 0.19871571],\n",
       "         [0.61406846, 0.79891161, 0.05125981, 0.16156527, 0.76886078],\n",
       "         [0.16004811, 0.48444795, 0.00682387, 0.53171846, 0.37924394]],\n",
       "\n",
       "        [[0.76577998, 0.10072919, 0.19974541, 0.03884469, 0.45168463],\n",
       "         [0.39946   , 0.62542341, 0.71349453, 0.02016825, 0.46035965],\n",
       "         [0.1983984 , 0.12491076, 0.24267091, 0.08486511, 0.39408322],\n",
       "         [0.48808073, 0.21269336, 0.82942988, 0.8519871 , 0.14567099],\n",
       "         [0.39746495, 0.65852181, 0.89435529, 0.22590301, 0.69976096]]],\n",
       "\n",
       "\n",
       "       [[[0.16621828, 0.17417626, 0.17813518, 0.71765488, 0.52765431],\n",
       "         [0.47502167, 0.56938753, 0.92947316, 0.36287509, 0.36422982],\n",
       "         [0.94900265, 0.10636149, 0.47232474, 0.65854543, 0.75202097],\n",
       "         [0.29855139, 0.1021378 , 0.53215345, 0.50718725, 0.26720966],\n",
       "         [0.21667115, 0.01580424, 0.22831351, 0.61433212, 0.16253569]],\n",
       "\n",
       "        [[0.60197167, 0.94011877, 0.14571915, 0.92931447, 0.41855891],\n",
       "         [0.59234879, 0.53967718, 0.56242896, 0.33302767, 0.32737784],\n",
       "         [0.64189451, 0.80005655, 0.4674667 , 0.42578827, 0.98277861],\n",
       "         [0.78892698, 0.1215861 , 0.53952273, 0.31114513, 0.52184407],\n",
       "         [0.59332039, 0.18727088, 0.00921929, 0.0256012 , 0.47572919]],\n",
       "\n",
       "        [[0.04088575, 0.03528819, 0.51845669, 0.47759527, 0.10455231],\n",
       "         [0.02802714, 0.68863386, 0.73823881, 0.48087743, 0.30396968],\n",
       "         [0.88629088, 0.51603374, 0.10705045, 0.7155156 , 0.41249889],\n",
       "         [0.85020182, 0.63057665, 0.32190837, 0.77761076, 0.44060676],\n",
       "         [0.46849653, 0.8304037 , 0.97613447, 0.96401952, 0.51970277]]]])"
      ]
     },
     "execution_count": 5,
     "metadata": {},
     "output_type": "execute_result"
    }
   ],
   "source": [
    "import numpy as np\n",
    "arry=np.random.rand(4,3,5,5)#dimensions  \n",
    "arry"
   ]
  },
  {
   "cell_type": "code",
   "execution_count": 6,
   "id": "8b3635b4",
   "metadata": {},
   "outputs": [
    {
     "data": {
      "text/plain": [
       "array([0., 0., 0.])"
      ]
     },
     "execution_count": 6,
     "metadata": {},
     "output_type": "execute_result"
    }
   ],
   "source": [
    "#NULL matrix \n",
    "zeros=np.zeros(3)\n",
    "zeros"
   ]
  },
  {
   "cell_type": "code",
   "execution_count": null,
   "id": "872f676d",
   "metadata": {},
   "outputs": [
    {
     "data": {
      "text/plain": [
       "array([[0., 0.],\n",
       "       [0., 0.],\n",
       "       [0., 0.]])"
      ]
     },
     "execution_count": 7,
     "metadata": {},
     "output_type": "execute_result"
    }
   ],
   "source": [
    "z2=np.zeros((3,2)) # if more than one element then it has to be at a tuple \n",
    "z2"
   ]
  },
  {
   "cell_type": "code",
   "execution_count": 21,
   "id": "ce676f21",
   "metadata": {},
   "outputs": [
    {
     "name": "stdout",
     "output_type": "stream",
     "text": [
      "[0. 0. 0. 0. 0.]\n",
      "[1. 2. 3. 4. 5.]\n"
     ]
    }
   ],
   "source": [
    "#zero spy takes the dimensions and data types of any array when we take a zeros array of it \n",
    "#example\n",
    "empty =np.zeros(5)\n",
    "print(empty)\n",
    "for i in range (5):\n",
    "    empty[i]=float(input())\n",
    "print(empty)"
   ]
  },
  {
   "cell_type": "code",
   "execution_count": null,
   "id": "cece0a94",
   "metadata": {},
   "outputs": [
    {
     "data": {
      "text/plain": [
       "array([[[0., 0., 0., 0.],\n",
       "        [0., 0., 0., 0.],\n",
       "        [0., 0., 0., 0.]],\n",
       "\n",
       "       [[0., 0., 0., 0.],\n",
       "        [0., 0., 0., 0.],\n",
       "        [0., 0., 0., 0.]]])"
      ]
     },
     "execution_count": 13,
     "metadata": {},
     "output_type": "execute_result"
    }
   ],
   "source": [
    "z3=np.zeros_like(arr) #spy \n",
    "z3"
   ]
  },
  {
   "cell_type": "code",
   "execution_count": 17,
   "id": "6cdbeb37",
   "metadata": {},
   "outputs": [
    {
     "data": {
      "text/plain": [
       "array(['A', 'B', 'C'], dtype='<U1')"
      ]
     },
     "execution_count": 17,
     "metadata": {},
     "output_type": "execute_result"
    }
   ],
   "source": [
    "S=np.array([\"A\",\"B\",\"C\"],dtype=\"U\")\n",
    "S"
   ]
  },
  {
   "cell_type": "code",
   "execution_count": 19,
   "id": "b88d945e",
   "metadata": {},
   "outputs": [
    {
     "data": {
      "text/plain": [
       "array(['', '', ''], dtype='<U1')"
      ]
     },
     "execution_count": 19,
     "metadata": {},
     "output_type": "execute_result"
    }
   ],
   "source": [
    "Zeros_S=np.zeros_like(S)\n",
    "Zeros_S"
   ]
  },
  {
   "cell_type": "code",
   "execution_count": 22,
   "id": "ee61e3cc",
   "metadata": {},
   "outputs": [
    {
     "data": {
      "text/plain": [
       "array([[1., 1., 1., 1., 1.],\n",
       "       [1., 1., 1., 1., 1.],\n",
       "       [1., 1., 1., 1., 1.],\n",
       "       [1., 1., 1., 1., 1.],\n",
       "       [1., 1., 1., 1., 1.]])"
      ]
     },
     "execution_count": 22,
     "metadata": {},
     "output_type": "execute_result"
    }
   ],
   "source": [
    "ones=np.ones((5,5))\n",
    "ones"
   ]
  },
  {
   "cell_type": "code",
   "execution_count": 27,
   "id": "b8465eec",
   "metadata": {},
   "outputs": [
    {
     "name": "stdout",
     "output_type": "stream",
     "text": [
      "[[1. 1. 1. 1. 1.]\n",
      " [1. 1. 1. 1. 1.]\n",
      " [1. 1. 1. 1. 1.]\n",
      " [1. 1. 1. 1. 1.]\n",
      " [1. 1. 1. 1. 1.]]\n",
      "float64\n"
     ]
    }
   ],
   "source": [
    "on=np.ones_like(ones)\n",
    "print(on)\n",
    "print(str(ones.dtype))"
   ]
  },
  {
   "cell_type": "code",
   "execution_count": null,
   "id": "6f897677",
   "metadata": {},
   "outputs": [
    {
     "data": {
      "text/plain": [
       "array([0.24038735, 0.77706247, 0.13758799, 0.68465764, 0.12477707,\n",
       "       0.98158846, 0.52615563, 0.53583525])"
      ]
     },
     "execution_count": 28,
     "metadata": {},
     "output_type": "execute_result"
    }
   ],
   "source": [
    "E=np.empty(8) #garbage value gives any random values from memory \n",
    "E"
   ]
  },
  {
   "cell_type": "code",
   "execution_count": 29,
   "id": "109240d0",
   "metadata": {},
   "outputs": [
    {
     "name": "stdout",
     "output_type": "stream",
     "text": [
      "[[[0.19034857 0.0029041  0.44940737 0.8188102 ]\n",
      "  [0.61745861 0.1890676  0.14086713 0.21703931]\n",
      "  [0.78811618 0.13797143 0.98060166 0.86622259]]\n",
      "\n",
      " [[0.92105716 0.99113456 0.51690042 0.72032306]\n",
      "  [0.45550418 0.25652633 0.36114405 0.10701231]\n",
      "  [0.97292617 0.499337   0.33837455 0.98916469]]]\n",
      "float64\n"
     ]
    }
   ],
   "source": [
    "#empty like\n",
    "empt=np.empty_like(arr)\n",
    "print(arr)\n",
    "print(arr.dtype)"
   ]
  },
  {
   "cell_type": "code",
   "execution_count": 30,
   "id": "1ed6f73b",
   "metadata": {},
   "outputs": [
    {
     "data": {
      "text/plain": [
       "array([-2, -1, -1], dtype=int8)"
      ]
     },
     "execution_count": 30,
     "metadata": {},
     "output_type": "execute_result"
    }
   ],
   "source": [
    "ar=np.array([1,2,3],dtype='int8')\n",
    "empty=np.empty_like(ar)\n",
    "empty"
   ]
  },
  {
   "cell_type": "code",
   "execution_count": 35,
   "id": "7a110310",
   "metadata": {},
   "outputs": [
    {
     "name": "stdout",
     "output_type": "stream",
     "text": [
      "[[1 2]\n",
      " [3 4]]\n",
      "int32\n"
     ]
    }
   ],
   "source": [
    "arra=np.array([[1,2]\n",
    "               ,[3,4]],dtype='int32')\n",
    "print(arra)\n",
    "print(arra.dtype)"
   ]
  },
  {
   "cell_type": "code",
   "execution_count": 36,
   "id": "f473cf41",
   "metadata": {},
   "outputs": [
    {
     "name": "stdout",
     "output_type": "stream",
     "text": [
      "[[5 5]\n",
      " [5 5]]\n",
      "int32\n"
     ]
    }
   ],
   "source": [
    "full=np.full_like(arra,5)\n",
    "print(full)\n",
    "print(full.dtype)"
   ]
  },
  {
   "cell_type": "code",
   "execution_count": null,
   "id": "c18de1f4",
   "metadata": {},
   "outputs": [
    {
     "name": "stdout",
     "output_type": "stream",
     "text": [
      "[1 1 1 1 2 2 2 2 3 3 3 3 3 3 3 3 4 4 4 4 5 5 5 5]\n"
     ]
    }
   ],
   "source": [
    "#repetitive manner\n",
    "#1 repeat\n",
    "ay=[[1,2,3]\n",
    "    ,[3,4,5]]\n",
    "print(np.repeat(ay,4)) #flaten axis 0"
   ]
  },
  {
   "cell_type": "code",
   "execution_count": null,
   "id": "5712a4c1",
   "metadata": {},
   "outputs": [
    {
     "data": {
      "text/plain": [
       "array([[1, 2],\n",
       "       [1, 2],\n",
       "       [1, 2],\n",
       "       [1, 2],\n",
       "       [1, 2],\n",
       "       [1, 2],\n",
       "       [1, 2],\n",
       "       [1, 2],\n",
       "       [3, 5],\n",
       "       [3, 5],\n",
       "       [3, 5],\n",
       "       [3, 5],\n",
       "       [3, 5],\n",
       "       [3, 5],\n",
       "       [3, 5],\n",
       "       [3, 5]])"
      ]
     },
     "execution_count": 40,
     "metadata": {},
     "output_type": "execute_result"
    }
   ],
   "source": [
    "a=[[1,2],[3,5]]\n",
    "np.repeat(a,8,axis=0) # 0 is row and 1 is column"
   ]
  },
  {
   "cell_type": "code",
   "execution_count": null,
   "id": "801c170e",
   "metadata": {},
   "outputs": [
    {
     "data": {
      "text/plain": [
       "array([[1, 2, 1, 2, 1, 2, 1, 2, 1, 2],\n",
       "       [3, 5, 3, 5, 3, 5, 3, 5, 3, 5]])"
      ]
     },
     "execution_count": 41,
     "metadata": {},
     "output_type": "execute_result"
    }
   ],
   "source": [
    "#tile repeats the whole structure not only one element like repeat\n",
    "np.tile(a,5)"
   ]
  },
  {
   "cell_type": "code",
   "execution_count": null,
   "id": "b3ae1bcb",
   "metadata": {},
   "outputs": [
    {
     "data": {
      "text/plain": [
       "array([[1, 2, 1, 2],\n",
       "       [3, 5, 3, 5],\n",
       "       [1, 2, 1, 2],\n",
       "       [3, 5, 3, 5]])"
      ]
     },
     "execution_count": 42,
     "metadata": {},
     "output_type": "execute_result"
    }
   ],
   "source": [
    "np.tile(a,(2,2)) #repeats every structure two times "
   ]
  },
  {
   "cell_type": "code",
   "execution_count": null,
   "id": "45b015e0",
   "metadata": {},
   "outputs": [
    {
     "data": {
      "text/plain": [
       "array([[1., 0., 0., 0., 0.],\n",
       "       [0., 1., 0., 0., 0.],\n",
       "       [0., 0., 1., 0., 0.],\n",
       "       [0., 0., 0., 1., 0.],\n",
       "       [0., 0., 0., 0., 1.]])"
      ]
     },
     "execution_count": 44,
     "metadata": {},
     "output_type": "execute_result"
    }
   ],
   "source": [
    "m=np.eye(5,5) #identity\n",
    "m"
   ]
  },
  {
   "cell_type": "code",
   "execution_count": null,
   "id": "2c7b8711",
   "metadata": {},
   "outputs": [
    {
     "data": {
      "text/plain": [
       "array([[0., 0., 1., 0., 0.],\n",
       "       [0., 0., 0., 1., 0.],\n",
       "       [0., 0., 0., 0., 1.],\n",
       "       [0., 0., 0., 0., 0.],\n",
       "       [0., 0., 0., 0., 0.]])"
      ]
     },
     "execution_count": 45,
     "metadata": {},
     "output_type": "execute_result"
    }
   ],
   "source": [
    "n=np.eye(5,5,k=2)   #k moves the main  diagonal\n",
    "n"
   ]
  },
  {
   "cell_type": "code",
   "execution_count": 46,
   "id": "1f711556",
   "metadata": {},
   "outputs": [
    {
     "data": {
      "text/plain": [
       "array([[1., 0., 0., 0., 0.],\n",
       "       [0., 1., 0., 0., 0.],\n",
       "       [0., 0., 1., 0., 0.],\n",
       "       [0., 0., 0., 1., 0.],\n",
       "       [0., 0., 0., 0., 1.]])"
      ]
     },
     "execution_count": 46,
     "metadata": {},
     "output_type": "execute_result"
    }
   ],
   "source": [
    "f=np.identity(5) #defines the number of values of main diagonal and the dimensions are defined by it \n",
    "f"
   ]
  },
  {
   "cell_type": "code",
   "execution_count": 51,
   "id": "4d1a8290",
   "metadata": {},
   "outputs": [
    {
     "data": {
      "text/plain": [
       "array([1, 4])"
      ]
     },
     "execution_count": 51,
     "metadata": {},
     "output_type": "execute_result"
    }
   ],
   "source": [
    "#diagonal of any array \n",
    "d=np.diag(ay)\n",
    "d"
   ]
  },
  {
   "cell_type": "code",
   "execution_count": null,
   "id": "97d5d6ff",
   "metadata": {},
   "outputs": [
    {
     "data": {
      "text/plain": [
       "array([[1, 0, 0, 0, 0, 0, 0],\n",
       "       [0, 2, 0, 0, 0, 0, 0],\n",
       "       [0, 0, 3, 0, 0, 0, 0],\n",
       "       [0, 0, 0, 4, 0, 0, 0],\n",
       "       [0, 0, 0, 0, 5, 0, 0],\n",
       "       [0, 0, 0, 0, 0, 6, 0],\n",
       "       [0, 0, 0, 0, 0, 0, 7]])"
      ]
     },
     "execution_count": 52,
     "metadata": {},
     "output_type": "execute_result"
    }
   ],
   "source": [
    "c=np.diag([1,2,3,4,5,6,7]) #define the diagonal\n",
    "c"
   ]
  },
  {
   "cell_type": "code",
   "execution_count": null,
   "id": "2c5c29fd",
   "metadata": {},
   "outputs": [
    {
     "name": "stdout",
     "output_type": "stream",
     "text": [
      "class:  ndarray\n",
      "shape:  (2, 3)\n",
      "strides:  (12, 4)\n",
      "itemsize:  4\n",
      "aligned:  True\n",
      "contiguous:  True\n",
      "fortran:  False\n",
      "data pointer: 0x1f6b2fc4b40\n",
      "byteorder:  little\n",
      "byteswap:  False\n",
      "type: int32\n",
      "None\n"
     ]
    }
   ],
   "source": [
    "import numpy as np\n",
    "array=np.array([[1,2,3],[4,5,6]],dtype='int32')\n",
    "print(np.info(array))\n",
    "#class=> which class it's in python classes \n",
    "#shape => dimensions\n",
    "#strides => how many bytes we needed till we go to next row \n",
    "#itemsize=bytes\n",
    "#aligned => goes with alignment of pc\n",
    "#contigous=> takes the whole block and stores it (column major)  \n",
    "#fortran takes row by row and stores it row style (row major)\n",
    "#datapointer => address in memory \n",
    "#byteorder=> big endian or little endian \n",
    "#byteswap => needed swapping before storing or not like big endian for swapping between LSB and MSB\n",
    "#type => type of my array\n"
   ]
  },
  {
   "cell_type": "code",
   "execution_count": 6,
   "id": "44a18021",
   "metadata": {},
   "outputs": [
    {
     "name": "stdout",
     "output_type": "stream",
     "text": [
      "(2, 3)\n"
     ]
    }
   ],
   "source": [
    "#arr.shape=>prints the dimensions of array \n",
    "print(array.shape)"
   ]
  },
  {
   "cell_type": "code",
   "execution_count": 7,
   "id": "9702ce84",
   "metadata": {},
   "outputs": [
    {
     "name": "stdout",
     "output_type": "stream",
     "text": [
      "2\n"
     ]
    }
   ],
   "source": [
    "#length of an array = number of rows\n",
    "print(len(array))"
   ]
  },
  {
   "cell_type": "code",
   "execution_count": null,
   "id": "213617c6",
   "metadata": {},
   "outputs": [
    {
     "name": "stdout",
     "output_type": "stream",
     "text": [
      "2\n"
     ]
    }
   ],
   "source": [
    "print(array.ndim) #@D"
   ]
  },
  {
   "cell_type": "code",
   "execution_count": 9,
   "id": "57b33325",
   "metadata": {},
   "outputs": [
    {
     "name": "stdout",
     "output_type": "stream",
     "text": [
      "6\n"
     ]
    }
   ],
   "source": [
    "print(array.size)"
   ]
  },
  {
   "cell_type": "code",
   "execution_count": 10,
   "id": "5690ee2f",
   "metadata": {},
   "outputs": [
    {
     "name": "stdout",
     "output_type": "stream",
     "text": [
      "4\n"
     ]
    }
   ],
   "source": [
    "print(array.itemsize)"
   ]
  },
  {
   "cell_type": "code",
   "execution_count": null,
   "id": "7341e408",
   "metadata": {},
   "outputs": [
    {
     "name": "stdout",
     "output_type": "stream",
     "text": [
      "24\n"
     ]
    }
   ],
   "source": [
    "print(array.nbytes) #6(size)* bytes =24"
   ]
  },
  {
   "cell_type": "code",
   "execution_count": 14,
   "id": "c1bd3421",
   "metadata": {},
   "outputs": [
    {
     "name": "stdout",
     "output_type": "stream",
     "text": [
      "int64\n",
      "12\n",
      "2\n",
      "(3, 4)\n",
      "96\n",
      "768\n",
      "class:  ndarray\n",
      "shape:  (3, 4)\n",
      "strides:  (32, 8)\n",
      "itemsize:  8\n",
      "aligned:  True\n",
      "contiguous:  True\n",
      "fortran:  False\n",
      "data pointer: 0x1f6b0a03f60\n",
      "byteorder:  little\n",
      "byteswap:  False\n",
      "type: int64\n",
      "None\n"
     ]
    }
   ],
   "source": [
    "array4=np.array([[1,2,3,4],\n",
    "                 [1,7,6,5],\n",
    "                 [8,11,2,4]])\n",
    "print(array4.dtype )\n",
    "print(array4.size)\n",
    "print(array4.ndim)\n",
    "print(array4.shape)\n",
    "print(array4.nbytes)\n",
    "print(array4.nbytes *8)\n",
    "print(np.info(array4))"
   ]
  },
  {
   "cell_type": "code",
   "execution_count": 18,
   "id": "4b0d91a2",
   "metadata": {},
   "outputs": [
    {
     "data": {
      "text/plain": [
       "array([0.21864505, 0.03140272, 0.28712528])"
      ]
     },
     "execution_count": 18,
     "metadata": {},
     "output_type": "execute_result"
    }
   ],
   "source": [
    "import numpy as np\n",
    "#sampling method \n",
    "np.random.seed(65)\n",
    "np.random.rand(3)"
   ]
  },
  {
   "cell_type": "code",
   "execution_count": 19,
   "id": "f3baf6f1",
   "metadata": {},
   "outputs": [
    {
     "data": {
      "text/plain": [
       "array([0.82311034, 0.02611798, 0.21077064, 0.61842177, 0.09828447,\n",
       "       0.62013131, 0.05389022, 0.96065406, 0.98042937, 0.52112765,\n",
       "       0.63655334, 0.76475695, 0.76495529, 0.41768558, 0.76880531])"
      ]
     },
     "execution_count": 19,
     "metadata": {},
     "output_type": "execute_result"
    }
   ],
   "source": [
    "rs=np.random.RandomState(52)\n",
    "rs.rand(15)"
   ]
  },
  {
   "cell_type": "code",
   "execution_count": 25,
   "id": "cb6631b5",
   "metadata": {},
   "outputs": [
    {
     "name": "stdout",
     "output_type": "stream",
     "text": [
      "7.715108316681932\n"
     ]
    }
   ],
   "source": [
    "#generate random scaler \n",
    "print(np.random.rand()*10)"
   ]
  },
  {
   "cell_type": "code",
   "execution_count": 26,
   "id": "0fd78cf3",
   "metadata": {},
   "outputs": [
    {
     "name": "stdout",
     "output_type": "stream",
     "text": [
      "[[-1.59309501  0.08775184  0.03322694]\n",
      " [-1.56950039  0.18107099 -1.07770993]\n",
      " [ 2.00836161 -0.20120416 -0.71998442]]\n"
     ]
    }
   ],
   "source": [
    "#normal distribution \n",
    "print(np.random.randn(3,3))"
   ]
  },
  {
   "cell_type": "code",
   "execution_count": 27,
   "id": "7cfe6f72",
   "metadata": {},
   "outputs": [
    {
     "name": "stdout",
     "output_type": "stream",
     "text": [
      "[2 7 6 1 7]\n"
     ]
    }
   ],
   "source": [
    "print(np.random.randint(1,10,5,'i8'))"
   ]
  },
  {
   "cell_type": "code",
   "execution_count": 2,
   "id": "321e263f",
   "metadata": {},
   "outputs": [
    {
     "name": "stdout",
     "output_type": "stream",
     "text": [
      "[0.21864505 0.03140272 0.28712528 0.17264466 0.30337638 0.16295022\n",
      " 0.69931375 0.77151083 0.51455245 0.23580689]\n",
      "[0.23003963 0.50571517 0.13418496 0.56146226 0.4820002  0.67966876\n",
      " 0.73870729 0.16514066 0.10069371 0.92758757]\n",
      "[0.22027153 0.10020807 0.79305629 0.10742643 0.45574091 0.10711613\n",
      " 0.53257258 0.44607481 0.17972022 0.98504053]\n",
      "[0.66322649 0.63012838 0.55027065 0.02993737 0.10579117 0.34980868\n",
      " 0.05040405 0.55165452 0.80687211 0.3766353 ]\n"
     ]
    }
   ],
   "source": [
    "import numpy as np\n",
    "np.random.seed(65)\n",
    "print(np.random.random_sample(10))\n",
    "print(np.random.random(10))\n",
    "print(np.random.ranf(10))\n",
    "print(np.random.sample(10))"
   ]
  },
  {
   "cell_type": "code",
   "execution_count": 5,
   "id": "06bf254a",
   "metadata": {},
   "outputs": [
    {
     "name": "stdout",
     "output_type": "stream",
     "text": [
      "[[0.27863559 0.89473843 0.67351481 0.31789432 0.14319062]\n",
      " [0.04208975 0.67570173 0.16100456 0.09563275 0.62573299]\n",
      " [0.12743415 0.94003255 0.46699462 0.93129528 0.53346029]\n",
      " [0.60165001 0.016855   0.59310916 0.75210869 0.39016708]\n",
      " [0.62126849 0.35461094 0.24991337 0.18980261 0.46582743]]\n"
     ]
    }
   ],
   "source": [
    "import numpy as np\n",
    "arr_m=np.random.rand(5,5)\n",
    "print (arr_m)"
   ]
  },
  {
   "cell_type": "code",
   "execution_count": null,
   "id": "1689b57f",
   "metadata": {},
   "outputs": [
    {
     "name": "stdout",
     "output_type": "stream",
     "text": [
      "[[10.27863559 10.89473843 10.67351481 10.31789432 10.14319062]\n",
      " [10.04208975 10.67570173 10.16100456 10.09563275 10.62573299]\n",
      " [10.12743415 10.94003255 10.46699462 10.93129528 10.53346029]\n",
      " [10.60165001 10.016855   10.59310916 10.75210869 10.39016708]\n",
      " [10.62126849 10.35461094 10.24991337 10.18980261 10.46582743]]\n"
     ]
    }
   ],
   "source": [
    "print(arr_m+10) # can do any mathematical operation as it's many arrays not a matrix so we can do operations."
   ]
  },
  {
   "cell_type": "code",
   "execution_count": 7,
   "id": "b3a67757",
   "metadata": {},
   "outputs": [
    {
     "data": {
      "text/plain": [
       "array([1, 2, 3])"
      ]
     },
     "execution_count": 7,
     "metadata": {},
     "output_type": "execute_result"
    }
   ],
   "source": [
    "arr_s=np.array([1,2,3])\n",
    "arr_s"
   ]
  },
  {
   "cell_type": "code",
   "execution_count": 8,
   "id": "2d3ff949",
   "metadata": {},
   "outputs": [
    {
     "data": {
      "text/plain": [
       "array([6, 6, 6])"
      ]
     },
     "execution_count": 8,
     "metadata": {},
     "output_type": "execute_result"
    }
   ],
   "source": [
    "np.add(arr_s,[5,4,3])"
   ]
  },
  {
   "cell_type": "code",
   "execution_count": 10,
   "id": "b3069fd5",
   "metadata": {},
   "outputs": [
    {
     "data": {
      "text/plain": [
       "array([11, 10,  9])"
      ]
     },
     "execution_count": 10,
     "metadata": {},
     "output_type": "execute_result"
    }
   ],
   "source": [
    "np.add(arr_s,[5,4,3],out=arr_s)\n"
   ]
  },
  {
   "cell_type": "code",
   "execution_count": 13,
   "id": "9518da85",
   "metadata": {},
   "outputs": [
    {
     "data": {
      "text/plain": [
       "array([ -9, -10, -11])"
      ]
     },
     "execution_count": 13,
     "metadata": {},
     "output_type": "execute_result"
    }
   ],
   "source": [
    "np.subtract(arr_s,[20,20,20],out=arr_s)"
   ]
  },
  {
   "cell_type": "code",
   "execution_count": 14,
   "id": "21a4f099",
   "metadata": {},
   "outputs": [
    {
     "data": {
      "text/plain": [
       "array([ 9, 10, 11])"
      ]
     },
     "execution_count": 14,
     "metadata": {},
     "output_type": "execute_result"
    }
   ],
   "source": [
    "np.multiply(arr_s,[-1,-1,-1])"
   ]
  },
  {
   "cell_type": "code",
   "execution_count": 17,
   "id": "c5c1d119",
   "metadata": {},
   "outputs": [
    {
     "data": {
      "text/plain": [
       "array([ -3.,  -5., -11.])"
      ]
     },
     "execution_count": 17,
     "metadata": {},
     "output_type": "execute_result"
    }
   ],
   "source": [
    "np.divide(arr_s,[3,2,1])"
   ]
  },
  {
   "cell_type": "code",
   "execution_count": null,
   "id": "6f65822e",
   "metadata": {},
   "outputs": [
    {
     "name": "stdout",
     "output_type": "stream",
     "text": [
      "[[0.69241147 0.81804336 0.90420101 0.59166387 0.29596011]\n",
      " [0.34526279 0.96920224 0.26286674 0.77928581 0.03361092]\n",
      " [0.15462485 0.26754558 0.70418463 0.45157657 0.51793208]\n",
      " [0.57332156 0.86080546 0.59689137 0.6012346  0.52258463]\n",
      " [0.40235506 0.34502553 0.47134889 0.01123798 0.03371301]]\n",
      "0.011237981536530772\n",
      "0.9692022438307624\n",
      "0.4882756047554933\n",
      "0.5179320818450958\n"
     ]
    }
   ],
   "source": [
    "arr_n=np.random.rand(5,5)\n",
    "print(arr_n)\n",
    "print(arr_n.min())\n",
    "print(arr_n.max())\n",
    "print(arr_n.mean())\n",
    "print(np.median(arr_n))#needs to be passed as a parameter\n",
    "print(np.var(arr_n))#gets variance \n",
    "print(np.std(arr_n))#standard deviation\n"
   ]
  },
  {
   "cell_type": "code",
   "execution_count": 22,
   "id": "30a7cef4",
   "metadata": {},
   "outputs": [
    {
     "name": "stdout",
     "output_type": "stream",
     "text": [
      "[[0.25867776 0.44276908 0.3426826  0.14036155 0.21200492 0.12448595]\n",
      " [0.93339103 0.40243904 0.55710121 0.08214168 0.37947679 0.76137538]\n",
      " [0.1508203  0.55377762 0.34633942 0.97085745 0.52136218 0.99061408]\n",
      " [0.48236481 0.86990693 0.2400545  0.42765087 0.77826434 0.23220297]\n",
      " [0.74097163 0.91990798 0.43320204 0.40980542 0.04426685 0.16635735]\n",
      " [0.21124989 0.13469701 0.04630253 0.89102404 0.35750661 0.08201894]]\n",
      "0.0442668520445072\n",
      "0.9906140813578665\n",
      "0.4344009100094381\n",
      "0.39095791834462595\n",
      "0.08471261929851155\n",
      "0.291054323621058\n"
     ]
    }
   ],
   "source": [
    "arr_f=np.random.rand(6,6)\n",
    "print(arr_f)\n",
    "print(arr_f.min())\n",
    "print(arr_f.max())\n",
    "print(arr_f.mean())\n",
    "print(np.median(arr_f))#needs to be passed as a parameter\n",
    "print(np.var(arr_f))#gets variance \n",
    "print(np.std(arr_f))#standard deviation"
   ]
  },
  {
   "cell_type": "code",
   "execution_count": 27,
   "id": "42a7280b",
   "metadata": {},
   "outputs": [
    {
     "name": "stdout",
     "output_type": "stream",
     "text": [
      "[[0.50639652 0.0087236  0.65389808 0.77265941 0.02056463]\n",
      " [0.18648959 0.47128322 0.92945879 0.59737986 0.49664443]\n",
      " [0.00732564 0.56401309 0.2735433  0.26852169 0.41895454]\n",
      " [0.76270381 0.28771428 0.26923601 0.34335258 0.62045471]\n",
      " [0.7653413  0.00570651 0.17653667 0.73094942 0.32782933]]\n",
      "*****************************\n",
      "[0.00732564 0.00570651 0.17653667 0.26852169 0.02056463]\n",
      "*****************************\n",
      "[0.0087236  0.18648959 0.00732564 0.26923601 0.00570651]\n"
     ]
    }
   ],
   "source": [
    "arr_r=np.random.rand(5,5)\n",
    "print(arr_r)\n",
    "print(\"*****************************\")\n",
    "print(arr_r.min(axis=0)) #axis=0----> row\n",
    "print(\"*****************************\")\n",
    "print(arr_r.min(axis=1))\n"
   ]
  },
  {
   "cell_type": "code",
   "execution_count": null,
   "id": "c39b2261",
   "metadata": {},
   "outputs": [
    {
     "name": "stdout",
     "output_type": "stream",
     "text": [
      "21\n",
      "7\n",
      "[2 4 4 2 0]\n",
      "[1 0 0 2 1]\n"
     ]
    }
   ],
   "source": [
    "print(np.argmin(arr_r)) #gets the index of the minimum number \n",
    "print(np.argmax(arr_r))#gets the index of the maximum number \n",
    "print(np.argmin(arr_r, axis=0)) #for each row the index of minimum in each row \n",
    "print(np.argmin(arr_r,axis=1)) #for each column the index of minimum in each column"
   ]
  },
  {
   "cell_type": "code",
   "execution_count": null,
   "id": "6fba7aaa",
   "metadata": {},
   "outputs": [
    {
     "name": "stdout",
     "output_type": "stream",
     "text": [
      "[ 2.71828183  7.3890561  20.08553692]\n",
      "[2. 4. 8.]\n"
     ]
    }
   ],
   "source": [
    "arr_e=np.array([1,2,3])\n",
    "print(np.exp(arr_e)) #exponential e\n",
    "print(np.exp2(arr_e)) #2 power each element"
   ]
  },
  {
   "cell_type": "code",
   "execution_count": 35,
   "id": "1bf04625",
   "metadata": {},
   "outputs": [
    {
     "name": "stdout",
     "output_type": "stream",
     "text": [
      "[1.         1.41421356 1.73205081]\n"
     ]
    }
   ],
   "source": [
    "print(np.sqrt(arr_e))"
   ]
  },
  {
   "cell_type": "code",
   "execution_count": 36,
   "id": "c5eb19b8",
   "metadata": {},
   "outputs": [
    {
     "name": "stdout",
     "output_type": "stream",
     "text": [
      "6\n"
     ]
    }
   ],
   "source": [
    "print(np.sum(arr_e))"
   ]
  },
  {
   "cell_type": "code",
   "execution_count": null,
   "id": "59805411",
   "metadata": {},
   "outputs": [
    {
     "name": "stdout",
     "output_type": "stream",
     "text": [
      "[0.         0.69314718 1.09861229]\n"
     ]
    }
   ],
   "source": [
    "print(np.log(arr_e))#ln"
   ]
  },
  {
   "cell_type": "code",
   "execution_count": 38,
   "id": "2fca4b51",
   "metadata": {},
   "outputs": [
    {
     "name": "stdout",
     "output_type": "stream",
     "text": [
      "[0.         0.30103    0.47712125]\n"
     ]
    }
   ],
   "source": [
    "print(np.log10(arr_e))"
   ]
  },
  {
   "cell_type": "code",
   "execution_count": null,
   "id": "38574344",
   "metadata": {},
   "outputs": [
    {
     "name": "stdout",
     "output_type": "stream",
     "text": [
      "[0.69314718 1.09861229 1.38629436]\n"
     ]
    }
   ],
   "source": [
    "print(np.log1p(arr_e))#sum one before getting the log to know if there is a zero (for outliers)"
   ]
  },
  {
   "cell_type": "code",
   "execution_count": null,
   "id": "798b1ced",
   "metadata": {},
   "outputs": [
    {
     "name": "stdout",
     "output_type": "stream",
     "text": [
      "[0.        1.        1.5849625]\n"
     ]
    }
   ],
   "source": [
    "print(np.log2(arr_e))"
   ]
  },
  {
   "cell_type": "code",
   "execution_count": 41,
   "id": "d997d2bc",
   "metadata": {},
   "outputs": [
    {
     "name": "stdout",
     "output_type": "stream",
     "text": [
      "[-inf   0.   1.]\n"
     ]
    },
    {
     "name": "stderr",
     "output_type": "stream",
     "text": [
      "C:\\Users\\maria\\AppData\\Local\\Temp\\ipykernel_25672\\2954999465.py:2: RuntimeWarning: divide by zero encountered in log2\n",
      "  print(np.log2(arr_A))\n"
     ]
    }
   ],
   "source": [
    "arr_A=np.array([0,1,2])\n",
    "print(np.log2(arr_A))"
   ]
  },
  {
   "cell_type": "code",
   "execution_count": 44,
   "id": "b1b17893",
   "metadata": {},
   "outputs": [
    {
     "data": {
      "text/plain": [
       "array([False, False, False, False, False, False,  True])"
      ]
     },
     "execution_count": 44,
     "metadata": {},
     "output_type": "execute_result"
    }
   ],
   "source": [
    "arr1=np.array([1,2,3,4,5,6,7])\n",
    "arr2=np.array([7,5,2,17,1,0,7])\n",
    "arr1==arr2"
   ]
  },
  {
   "cell_type": "code",
   "execution_count": 45,
   "id": "057905f4",
   "metadata": {},
   "outputs": [
    {
     "data": {
      "text/plain": [
       "array([False, False,  True, False,  True,  True, False])"
      ]
     },
     "execution_count": 45,
     "metadata": {},
     "output_type": "execute_result"
    }
   ],
   "source": [
    "arr1>arr2"
   ]
  },
  {
   "cell_type": "code",
   "execution_count": 46,
   "id": "7ece1a32",
   "metadata": {},
   "outputs": [
    {
     "data": {
      "text/plain": [
       "array([ True,  True, False,  True, False, False, False])"
      ]
     },
     "execution_count": 46,
     "metadata": {},
     "output_type": "execute_result"
    }
   ],
   "source": [
    "arr1<arr2"
   ]
  },
  {
   "cell_type": "code",
   "execution_count": 47,
   "id": "abd9dbee",
   "metadata": {},
   "outputs": [
    {
     "data": {
      "text/plain": [
       "array([False, False, False, False, False, False, False])"
      ]
     },
     "execution_count": 47,
     "metadata": {},
     "output_type": "execute_result"
    }
   ],
   "source": [
    "arr1>10"
   ]
  },
  {
   "cell_type": "code",
   "execution_count": 48,
   "id": "868ef26e",
   "metadata": {},
   "outputs": [
    {
     "data": {
      "text/plain": [
       "array([False, False, False,  True, False, False, False])"
      ]
     },
     "execution_count": 48,
     "metadata": {},
     "output_type": "execute_result"
    }
   ],
   "source": [
    "arr2>10"
   ]
  },
  {
   "cell_type": "code",
   "execution_count": 49,
   "id": "c72effbb",
   "metadata": {},
   "outputs": [
    {
     "name": "stdout",
     "output_type": "stream",
     "text": [
      "[[1 4]\n",
      " [2 5]\n",
      " [3 6]]\n"
     ]
    }
   ],
   "source": [
    "arr_t=np.array([[1,2,3],\n",
    "                [4,5,6],])\n",
    "print(arr_t.T)"
   ]
  },
  {
   "cell_type": "code",
   "execution_count": 53,
   "id": "2cb78e07",
   "metadata": {},
   "outputs": [
    {
     "name": "stdout",
     "output_type": "stream",
     "text": [
      "0.0\n"
     ]
    }
   ],
   "source": [
    "arr_d=np.array([[1,2],\n",
    "                [3,6]])\n",
    "print(np.linalg.det(arr_d))"
   ]
  },
  {
   "cell_type": "code",
   "execution_count": 54,
   "id": "778530b1",
   "metadata": {},
   "outputs": [
    {
     "name": "stdout",
     "output_type": "stream",
     "text": [
      "-3.999999999999999\n"
     ]
    }
   ],
   "source": [
    "arr_d2=np.array([[1,2],\n",
    "                [5,6]])\n",
    "print(np.linalg.det(arr_d2))"
   ]
  }
 ],
 "metadata": {
  "kernelspec": {
   "display_name": "Python 3",
   "language": "python",
   "name": "python3"
  },
  "language_info": {
   "codemirror_mode": {
    "name": "ipython",
    "version": 3
   },
   "file_extension": ".py",
   "mimetype": "text/x-python",
   "name": "python",
   "nbconvert_exporter": "python",
   "pygments_lexer": "ipython3",
   "version": "3.13.1"
  }
 },
 "nbformat": 4,
 "nbformat_minor": 5
}
